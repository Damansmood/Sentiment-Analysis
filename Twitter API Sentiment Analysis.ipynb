{
 "cells": [
  {
   "cell_type": "code",
   "execution_count": 4,
   "id": "e4a0bfb1",
   "metadata": {},
   "outputs": [],
   "source": [
    "import tweepy\n",
    "from textblob import TextBlob"
   ]
  },
  {
   "cell_type": "code",
   "execution_count": 5,
   "id": "4a9d64c5",
   "metadata": {},
   "outputs": [],
   "source": [
    "consumer_key = 'bnQnsaEW46mND5jrm5Qb6Mbbc'\n",
    "consumer_secret = 'YLzhzjLPfS6gMYs0KQwJgDRBDgh3gbCnjoEOMmbpmI0ALz6BfX'\n",
    "\n",
    "access_token = '2600443182-dPvpbn1usH3v6MmeyNyHYpgJrGWgHHq6xV1VsCZ'\n",
    "access_token_secret = 'f2wxBt5VonOZyThBrY5v8yMm1cKaTxwnRgeehUQYRrEwV'"
   ]
  },
  {
   "cell_type": "code",
   "execution_count": 6,
   "id": "9e72ebdb",
   "metadata": {},
   "outputs": [],
   "source": [
    "auth = tweepy.OAuthHandler(consumer_key, consumer_secret)"
   ]
  },
  {
   "cell_type": "code",
   "execution_count": 7,
   "id": "3279a630",
   "metadata": {},
   "outputs": [],
   "source": [
    "auth.set_access_token(access_token, access_token_secret)"
   ]
  },
  {
   "cell_type": "code",
   "execution_count": 10,
   "id": "f6b4c83d",
   "metadata": {},
   "outputs": [],
   "source": [
    "api = tweepy.API(auth)"
   ]
  },
  {
   "cell_type": "code",
   "execution_count": 13,
   "id": "a67a842e",
   "metadata": {},
   "outputs": [],
   "source": [
    "public_tweets = api.search_tweets('Cowboys')"
   ]
  },
  {
   "cell_type": "code",
   "execution_count": 14,
   "id": "878707e7",
   "metadata": {},
   "outputs": [
    {
     "name": "stdout",
     "output_type": "stream",
     "text": [
      "@savage3six1 @Sleep03145136 @lord_brunson Naw bro I’m not changing the topic you said I don’t watch the cowboys so… https://t.co/trsJwbkD13\n",
      "Sentiment(polarity=0.0, subjectivity=0.0)\n",
      "@Cowboys_FanTalk Never leave my BOYS loyal to the End 40 yrs &amp; still going strong 💪🏽\n",
      "Sentiment(polarity=0.3833333333333333, subjectivity=0.7833333333333333)\n",
      "RT @JustinLever3: “Why do you keep making fun of the Cowboys when they lose?” https://t.co/Dqq4JEF5QA\n",
      "Sentiment(polarity=0.3, subjectivity=0.2)\n",
      "The Cowboys away schedule is beautiful next season. Games in LA, Mia, SF, Arizona and Carolina. And maybe Buffalo in London.\n",
      "Sentiment(polarity=0.425, subjectivity=0.5)\n",
      "@dallascowboys I want Dak Prescott traded for draft picks I want Mike McCarthy fired I want Sean Payton hired as co… https://t.co/rVeuV3CGAf\n",
      "Sentiment(polarity=0.0, subjectivity=0.0)\n",
      "@Cowboys_FanTalk I like both of them and think that get a bad rap. Being the QB of the cowboys comes with the bigge… https://t.co/EZKWvNmHRR\n",
      "Sentiment(polarity=-0.6999999999999998, subjectivity=0.6666666666666666)\n",
      "RT @CamCox12: The #AZCardinals are flying in #Cowboys DC Dan Quinn for a second interview for their head coaching job, per @TomPelissero. L…\n",
      "Sentiment(polarity=0.0, subjectivity=0.0)\n",
      "RT @OddsShark: Next Dallas Cowboys Head Coach For 2023/24 Season Week 1 (If Not Mike McCarthy)\n",
      "\n",
      "Sean Payton +125\n",
      "Dan Quinn +150\n",
      "Kellen Moor…\n",
      "Sentiment(polarity=0.0, subjectivity=0.0)\n",
      "RT @barstoolsports: Cowboys fans are handling the loss well\n",
      "\n",
      "(via ig/victorledezma12) https://t.co/Y6HSv8pnbT\n",
      "Sentiment(polarity=0.0, subjectivity=0.0)\n",
      "RT @PardonMyTake: Conference Championship Games Since 1997:\n",
      "\n",
      "Blake Bortles: 1\n",
      "Cowboys: 0 https://t.co/PMtJ8XHQOI\n",
      "Sentiment(polarity=0.0, subjectivity=0.0)\n",
      "@Cowboys_FanTalk If that's what's bugging them, I'm almost 100% sure I was told Daks grandmother is Mexican but hey carry on\n",
      "Sentiment(polarity=0.25, subjectivity=0.4444444444444444)\n",
      "RT @MrCellySal: 40 Milli a year QB Dak Prescott being exposed by an OG retired QB..this should’ve been your red flag 🚩 \n",
      "Dallas Cowboys http…\n",
      "Sentiment(polarity=0.0, subjectivity=0.0)\n",
      "@SportsGuru1974 @acwTX @RealSkipBayless @undisputed You’re supporting every point I am making, sport 😂 I didn’t men… https://t.co/NwW7eWjC7N\n",
      "Sentiment(polarity=0.25, subjectivity=0.25)\n",
      "RT @FirstTake: .@stephenasmith fuels the Cowboys’ most disappointing season debate 😅 https://t.co/e1JCXuJ61d\n",
      "Sentiment(polarity=-0.04999999999999999, subjectivity=0.6)\n",
      "@MichaelBalkoJr How’d that work out for the Cowboys?!?!? Hahahaha big time? The only thing big time about him is his head!!!!\n",
      "Sentiment(polarity=0.05, subjectivity=0.42500000000000004)\n"
     ]
    }
   ],
   "source": [
    "for tweet in public_tweets:\n",
    "    print(tweet.text)\n",
    "    analysis = TextBlob(tweet.text)\n",
    "    print(analysis.sentiment)"
   ]
  },
  {
   "cell_type": "code",
   "execution_count": null,
   "id": "6edf360c",
   "metadata": {},
   "outputs": [],
   "source": []
  }
 ],
 "metadata": {
  "kernelspec": {
   "display_name": "Python 3 (ipykernel)",
   "language": "python",
   "name": "python3"
  },
  "language_info": {
   "codemirror_mode": {
    "name": "ipython",
    "version": 3
   },
   "file_extension": ".py",
   "mimetype": "text/x-python",
   "name": "python",
   "nbconvert_exporter": "python",
   "pygments_lexer": "ipython3",
   "version": "3.9.16"
  }
 },
 "nbformat": 4,
 "nbformat_minor": 5
}
